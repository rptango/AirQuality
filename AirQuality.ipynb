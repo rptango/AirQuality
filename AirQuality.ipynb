{
 "cells": [
  {
   "cell_type": "markdown",
   "id": "adjustable-cable",
   "metadata": {},
   "source": [
    "### New York Air Quality Measurements\n",
    "Daily air quality measurements in New York, May to September 1973.\n",
    "\n",
    "A data frame with 153 observations on 6 variables.\n",
    "\n",
    "[,1]\tOzone\tnumeric\tOzone (ppb) <br>\n",
    "[,2]\tSolar.R\tnumeric\tSolar R (lang) <br>\n",
    "[,3]\tWind\tnumeric\tWind (mph) <br>\n",
    "[,4]\tTemp\tnumeric\tTemperature (degrees F) <br>\n",
    "[,5]\tMonth\tnumeric\tMonth (1--12) <br>\n",
    "[,6]\tDay\tnumeric\tDay of month (1--31) <br>\n",
    "\n",
    "#### Details\n",
    "Daily readings of the following air quality values for May 1, 1973 (a Tuesday) to September 30, 1973.\n",
    "\n",
    "- Ozone: Mean ozone in parts per billion from 1300 to 1500 hours at Roosevelt Island \n",
    "- Solar.R: Solar radiation in Langleys in the frequency band 4000–7700 Angstroms from 0800 to 1200 hours at Central Park\n",
    "- Wind: Average wind speed in miles per hour at 0700 and 1000 hours at LaGuardia Airport\n",
    "- Temp: Maximum daily temperature in degrees Fahrenheit at La Guardia Airport.\n",
    "\n",
    "Source\n",
    "The data were obtained from the New York State Department of Conservation (ozone data) and the National Weather Service (meteorological data)."
   ]
  },
  {
   "cell_type": "code",
   "execution_count": 2,
   "id": "southwest-utility",
   "metadata": {},
   "outputs": [],
   "source": [
    "import numpy as np\n",
    "import pandas as pd\n",
    "import seaborn as sns\n",
    "import matplotlib.pyplot as plt\n",
    "\n",
    "from sklearn.ensemble import RandomForestRegressor\n",
    "from sklearn.tree import DecisionTreeRegressor\n",
    "\n",
    "\n",
    "%matplotlib inline\n",
    "from matplotlib import pyplot as plt\n",
    "from sklearn import datasets, linear_model\n",
    "from sklearn.metrics import mean_squared_error, r2_score\n",
    "from sklearn import metrics\n",
    "from sklearn.model_selection import train_test_split\n",
    "\n",
    "import numpy as np\n",
    "import pandas as pd\n",
    "import seaborn as sns"
   ]
  },
  {
   "cell_type": "code",
   "execution_count": 3,
   "id": "composed-interval",
   "metadata": {},
   "outputs": [],
   "source": [
    "df = pd.read_csv(\"./dataset/airquality2.csv\")"
   ]
  },
  {
   "cell_type": "code",
   "execution_count": 4,
   "id": "labeled-privacy",
   "metadata": {},
   "outputs": [
    {
     "data": {
      "text/html": [
       "<div>\n",
       "<style scoped>\n",
       "    .dataframe tbody tr th:only-of-type {\n",
       "        vertical-align: middle;\n",
       "    }\n",
       "\n",
       "    .dataframe tbody tr th {\n",
       "        vertical-align: top;\n",
       "    }\n",
       "\n",
       "    .dataframe thead th {\n",
       "        text-align: right;\n",
       "    }\n",
       "</style>\n",
       "<table border=\"1\" class=\"dataframe\">\n",
       "  <thead>\n",
       "    <tr style=\"text-align: right;\">\n",
       "      <th></th>\n",
       "      <th>Ozone</th>\n",
       "      <th>Solar.R</th>\n",
       "      <th>Wind</th>\n",
       "      <th>Temp</th>\n",
       "      <th>Month</th>\n",
       "      <th>Day</th>\n",
       "    </tr>\n",
       "  </thead>\n",
       "  <tbody>\n",
       "    <tr>\n",
       "      <th>count</th>\n",
       "      <td>111.000000</td>\n",
       "      <td>111.000000</td>\n",
       "      <td>111.000000</td>\n",
       "      <td>111.000000</td>\n",
       "      <td>111.000000</td>\n",
       "      <td>111.000000</td>\n",
       "    </tr>\n",
       "    <tr>\n",
       "      <th>mean</th>\n",
       "      <td>42.099099</td>\n",
       "      <td>184.801802</td>\n",
       "      <td>9.939640</td>\n",
       "      <td>77.792793</td>\n",
       "      <td>7.216216</td>\n",
       "      <td>15.945946</td>\n",
       "    </tr>\n",
       "    <tr>\n",
       "      <th>std</th>\n",
       "      <td>33.275969</td>\n",
       "      <td>91.152302</td>\n",
       "      <td>3.557713</td>\n",
       "      <td>9.529969</td>\n",
       "      <td>1.473434</td>\n",
       "      <td>8.707194</td>\n",
       "    </tr>\n",
       "    <tr>\n",
       "      <th>min</th>\n",
       "      <td>1.000000</td>\n",
       "      <td>7.000000</td>\n",
       "      <td>2.300000</td>\n",
       "      <td>57.000000</td>\n",
       "      <td>5.000000</td>\n",
       "      <td>1.000000</td>\n",
       "    </tr>\n",
       "    <tr>\n",
       "      <th>25%</th>\n",
       "      <td>18.000000</td>\n",
       "      <td>113.500000</td>\n",
       "      <td>7.400000</td>\n",
       "      <td>71.000000</td>\n",
       "      <td>6.000000</td>\n",
       "      <td>9.000000</td>\n",
       "    </tr>\n",
       "    <tr>\n",
       "      <th>50%</th>\n",
       "      <td>31.000000</td>\n",
       "      <td>207.000000</td>\n",
       "      <td>9.700000</td>\n",
       "      <td>79.000000</td>\n",
       "      <td>7.000000</td>\n",
       "      <td>16.000000</td>\n",
       "    </tr>\n",
       "    <tr>\n",
       "      <th>75%</th>\n",
       "      <td>62.000000</td>\n",
       "      <td>255.500000</td>\n",
       "      <td>11.500000</td>\n",
       "      <td>84.500000</td>\n",
       "      <td>9.000000</td>\n",
       "      <td>22.500000</td>\n",
       "    </tr>\n",
       "    <tr>\n",
       "      <th>max</th>\n",
       "      <td>168.000000</td>\n",
       "      <td>334.000000</td>\n",
       "      <td>20.700000</td>\n",
       "      <td>97.000000</td>\n",
       "      <td>9.000000</td>\n",
       "      <td>31.000000</td>\n",
       "    </tr>\n",
       "  </tbody>\n",
       "</table>\n",
       "</div>"
      ],
      "text/plain": [
       "            Ozone     Solar.R        Wind        Temp       Month         Day\n",
       "count  111.000000  111.000000  111.000000  111.000000  111.000000  111.000000\n",
       "mean    42.099099  184.801802    9.939640   77.792793    7.216216   15.945946\n",
       "std     33.275969   91.152302    3.557713    9.529969    1.473434    8.707194\n",
       "min      1.000000    7.000000    2.300000   57.000000    5.000000    1.000000\n",
       "25%     18.000000  113.500000    7.400000   71.000000    6.000000    9.000000\n",
       "50%     31.000000  207.000000    9.700000   79.000000    7.000000   16.000000\n",
       "75%     62.000000  255.500000   11.500000   84.500000    9.000000   22.500000\n",
       "max    168.000000  334.000000   20.700000   97.000000    9.000000   31.000000"
      ]
     },
     "execution_count": 4,
     "metadata": {},
     "output_type": "execute_result"
    }
   ],
   "source": [
    "df.describe()"
   ]
  },
  {
   "cell_type": "code",
   "execution_count": 5,
   "id": "posted-preliminary",
   "metadata": {},
   "outputs": [
    {
     "name": "stdout",
     "output_type": "stream",
     "text": [
      "count    108.000000\n",
      "mean      39.333333\n",
      "std       29.019813\n",
      "min        1.000000\n",
      "25%       17.500000\n",
      "50%       30.000000\n",
      "75%       59.000000\n",
      "max      118.000000\n",
      "Name: Ozone, dtype: float64\n"
     ]
    }
   ],
   "source": [
    "df_filtered=df[df.Ozone < np.percentile(df.Ozone,98)]\n",
    "print(df_filtered.Ozone.describe())"
   ]
  },
  {
   "cell_type": "code",
   "execution_count": 6,
   "id": "motivated-collection",
   "metadata": {},
   "outputs": [
    {
     "data": {
      "text/html": [
       "<div>\n",
       "<style scoped>\n",
       "    .dataframe tbody tr th:only-of-type {\n",
       "        vertical-align: middle;\n",
       "    }\n",
       "\n",
       "    .dataframe tbody tr th {\n",
       "        vertical-align: top;\n",
       "    }\n",
       "\n",
       "    .dataframe thead th {\n",
       "        text-align: right;\n",
       "    }\n",
       "</style>\n",
       "<table border=\"1\" class=\"dataframe\">\n",
       "  <thead>\n",
       "    <tr style=\"text-align: right;\">\n",
       "      <th></th>\n",
       "      <th>Ozone</th>\n",
       "      <th>Solar.R</th>\n",
       "      <th>Wind</th>\n",
       "      <th>Temp</th>\n",
       "      <th>Month</th>\n",
       "      <th>Day</th>\n",
       "    </tr>\n",
       "  </thead>\n",
       "  <tbody>\n",
       "    <tr>\n",
       "      <th>count</th>\n",
       "      <td>108.000000</td>\n",
       "      <td>108.000000</td>\n",
       "      <td>108.000000</td>\n",
       "      <td>108.000000</td>\n",
       "      <td>108.000000</td>\n",
       "      <td>108.000000</td>\n",
       "    </tr>\n",
       "    <tr>\n",
       "      <th>mean</th>\n",
       "      <td>39.333333</td>\n",
       "      <td>182.879630</td>\n",
       "      <td>10.109259</td>\n",
       "      <td>77.601852</td>\n",
       "      <td>7.203704</td>\n",
       "      <td>16.083333</td>\n",
       "    </tr>\n",
       "    <tr>\n",
       "      <th>std</th>\n",
       "      <td>29.019813</td>\n",
       "      <td>91.647202</td>\n",
       "      <td>3.454715</td>\n",
       "      <td>9.576002</td>\n",
       "      <td>1.489899</td>\n",
       "      <td>8.620910</td>\n",
       "    </tr>\n",
       "    <tr>\n",
       "      <th>min</th>\n",
       "      <td>1.000000</td>\n",
       "      <td>7.000000</td>\n",
       "      <td>2.300000</td>\n",
       "      <td>57.000000</td>\n",
       "      <td>5.000000</td>\n",
       "      <td>1.000000</td>\n",
       "    </tr>\n",
       "    <tr>\n",
       "      <th>25%</th>\n",
       "      <td>17.500000</td>\n",
       "      <td>108.750000</td>\n",
       "      <td>7.400000</td>\n",
       "      <td>71.000000</td>\n",
       "      <td>6.000000</td>\n",
       "      <td>9.000000</td>\n",
       "    </tr>\n",
       "    <tr>\n",
       "      <th>50%</th>\n",
       "      <td>30.000000</td>\n",
       "      <td>202.000000</td>\n",
       "      <td>9.700000</td>\n",
       "      <td>78.500000</td>\n",
       "      <td>7.000000</td>\n",
       "      <td>16.500000</td>\n",
       "    </tr>\n",
       "    <tr>\n",
       "      <th>75%</th>\n",
       "      <td>59.000000</td>\n",
       "      <td>254.500000</td>\n",
       "      <td>11.625000</td>\n",
       "      <td>84.250000</td>\n",
       "      <td>9.000000</td>\n",
       "      <td>22.250000</td>\n",
       "    </tr>\n",
       "    <tr>\n",
       "      <th>max</th>\n",
       "      <td>118.000000</td>\n",
       "      <td>334.000000</td>\n",
       "      <td>20.700000</td>\n",
       "      <td>97.000000</td>\n",
       "      <td>9.000000</td>\n",
       "      <td>31.000000</td>\n",
       "    </tr>\n",
       "  </tbody>\n",
       "</table>\n",
       "</div>"
      ],
      "text/plain": [
       "            Ozone     Solar.R        Wind        Temp       Month         Day\n",
       "count  108.000000  108.000000  108.000000  108.000000  108.000000  108.000000\n",
       "mean    39.333333  182.879630   10.109259   77.601852    7.203704   16.083333\n",
       "std     29.019813   91.647202    3.454715    9.576002    1.489899    8.620910\n",
       "min      1.000000    7.000000    2.300000   57.000000    5.000000    1.000000\n",
       "25%     17.500000  108.750000    7.400000   71.000000    6.000000    9.000000\n",
       "50%     30.000000  202.000000    9.700000   78.500000    7.000000   16.500000\n",
       "75%     59.000000  254.500000   11.625000   84.250000    9.000000   22.250000\n",
       "max    118.000000  334.000000   20.700000   97.000000    9.000000   31.000000"
      ]
     },
     "execution_count": 6,
     "metadata": {},
     "output_type": "execute_result"
    }
   ],
   "source": [
    "df_filtered.describe()"
   ]
  },
  {
   "cell_type": "code",
   "execution_count": 8,
   "id": "searching-sheriff",
   "metadata": {},
   "outputs": [],
   "source": [
    "#Generacion Modelo separando 90% train 10% test\n",
    "train, test = train_test_split(df_filtered, test_size=0.1, random_state=1, shuffle=True)\n",
    "Xtrain = train[['Solar.R','Wind','Temp']]\n",
    "ytrain = train[\"Ozone\"]\n",
    "\n",
    "Xtest = test[['Solar.R','Wind','Temp']]\n",
    "ytest = test[\"Ozone\"]"
   ]
  },
  {
   "cell_type": "markdown",
   "id": "awful-florida",
   "metadata": {},
   "source": [
    "### 1. Regresion Lineal"
   ]
  },
  {
   "cell_type": "code",
   "execution_count": 9,
   "id": "awful-indianapolis",
   "metadata": {},
   "outputs": [
    {
     "name": "stdout",
     "output_type": "stream",
     "text": [
      "Intercepto = -78.95339643224308\n",
      "Coeficiente  = [ 0.04350829 -2.34113708  1.73097077]\n",
      "R2 Sobre TRAIN = 0.6357538363007713\n",
      "R2 Sobre TEST = 0.7225781178362185\n",
      "MSE en Dataset de TEST : 114.77\n"
     ]
    }
   ],
   "source": [
    "model = linear_model.LinearRegression()\n",
    "model = model.fit(Xtrain, ytrain)\n",
    "predictions = model.predict(Xtest)\n",
    "\n",
    "print('Intercepto =', model.intercept_)\n",
    "print('Coeficiente  =', model.coef_)\n",
    "print('R2 Sobre TRAIN =', model.score(Xtrain, ytrain))\n",
    "print('R2 Sobre TEST =', model.score(Xtest, ytest))\n",
    "print (\"MSE en Dataset de TEST : %.2f\" % mean_squared_error(ytest, predictions))"
   ]
  },
  {
   "cell_type": "markdown",
   "id": "eleven-rapid",
   "metadata": {},
   "source": [
    "### 2. Decision Tree Regressor"
   ]
  },
  {
   "cell_type": "code",
   "execution_count": 11,
   "id": "postal-david",
   "metadata": {},
   "outputs": [
    {
     "name": "stdout",
     "output_type": "stream",
     "text": [
      "ARBOL R2  TRAIN = 0.9283403201177542\n",
      "ARBOL R2  TEST = 0.7744183662139295\n",
      "MSE en Dataset de TEST : 93.32\n"
     ]
    }
   ],
   "source": [
    "#Defino el algoritmo a utilizar\n",
    "adr = DecisionTreeRegressor(max_depth = 5)\n",
    "\n",
    "#Entreno el modelo\n",
    "adr.fit(Xtrain, ytrain)\n",
    "\n",
    "#Realizo una predicción\n",
    "Y_pred = adr.predict(Xtest)\n",
    "\n",
    "print('ARBOL R2  TRAIN =', adr.score(Xtrain, ytrain))\n",
    "print('ARBOL R2  TEST =', adr.score(Xtest, ytest))\n",
    "print (\"MSE en Dataset de TEST : %.2f\" % mean_squared_error(ytest, Y_pred))"
   ]
  },
  {
   "cell_type": "code",
   "execution_count": 24,
   "id": "manufactured-tolerance",
   "metadata": {},
   "outputs": [
    {
     "data": {
      "image/png": "[encoded data removed]",
      "text/plain": [
       "<Figure size 576x288 with 1 Axes>"
      ]
     },
     "metadata": {},
     "output_type": "display_data"
    },
    {
     "name": "stderr",
     "output_type": "stream",
     "text": [
      "C:\\Users\\roype\\anaconda3\\envs\\PR LAB\\lib\\site-packages\\seaborn\\_decorators.py:36: FutureWarning: Pass the following variables as keyword args: x, y. From version 0.12, the only valid positional argument will be `data`, and passing other arguments without an explicit keyword will result in an error or misinterpretation.\n",
      "  warnings.warn(\n"
     ]
    },
    {
     "data": {
      "image/png": "[encoded data removed]",
      "text/plain": [
       "<Figure size 576x288 with 1 Axes>"
      ]
     },
     "metadata": {},
     "output_type": "display_data"
    }
   ],
   "source": [
    "plt.rcParams['figure.figsize'] = (8, 4)\n",
    "plt.plot(ytest, ytest, '-')\n",
    "plt.scatter(Y_pred, ytest, s=50, c='green', marker='o')\n",
    "plt.xlabel(\"Predicciones de Ozone en TEST\")\n",
    "plt.ylabel(\"Valores reales Ozone\")\n",
    "plt.show()\n",
    "\n",
    "\n",
    "sns.set(style=\"whitegrid\")\n",
    "sns.residplot(ytest, Y_pred, lowess=True, color=\"green\")\n",
    "plt.show()\n"
   ]
  },
  {
   "cell_type": "markdown",
   "id": "fundamental-fault",
   "metadata": {},
   "source": [
    "### 3. Random Forrest"
   ]
  },
  {
   "cell_type": "code",
   "execution_count": 44,
   "id": "deluxe-certification",
   "metadata": {},
   "outputs": [
    {
     "name": "stdout",
     "output_type": "stream",
     "text": [
      "Random Forrest R2  TRAIN = 0.9570219973908595\n",
      "Random Forrest R2  TEST = 0.7637369291621718\n",
      "MSE en Dataset de TEST : 97.74\n"
     ]
    }
   ],
   "source": [
    "# Create a Random Forest Regressor\n",
    "reg = RandomForestRegressor()\n",
    "\n",
    "#Entreno el modelo\n",
    "reg.fit(Xtrain, ytrain)\n",
    "\n",
    "#Realizo una predicción\n",
    "y_pred = reg.predict(Xtest)\n",
    "\n",
    "print('Random Forrest R2  TRAIN =', reg.score(Xtrain, ytrain))\n",
    "print('Random Forrest R2  TEST =', reg.score(Xtest, ytest))\n",
    "print (\"MSE en Dataset de TEST : %.2f\" % metrics.mean_squared_error(ytest, y_pred))"
   ]
  },
  {
   "cell_type": "code",
   "execution_count": null,
   "id": "introductory-tulsa",
   "metadata": {},
   "outputs": [],
   "source": []
  },
  {
   "cell_type": "markdown",
   "id": "accompanied-oriental",
   "metadata": {},
   "source": [
    "### 4. XGBoost"
   ]
  },
  {
   "cell_type": "code",
   "execution_count": 32,
   "id": "tight-siemens",
   "metadata": {},
   "outputs": [],
   "source": [
    "from xgboost import XGBRegressor"
   ]
  },
  {
   "cell_type": "code",
   "execution_count": 36,
   "id": "binary-fairy",
   "metadata": {},
   "outputs": [
    {
     "data": {
      "text/plain": [
       "XGBRegressor(base_score=0.5, booster='gbtree', colsample_bylevel=1,\n",
       "             colsample_bynode=1, colsample_bytree=1, gamma=0, gpu_id=-1,\n",
       "             importance_type='gain', interaction_constraints='',\n",
       "             learning_rate=0.300000012, max_delta_step=0, max_depth=6,\n",
       "             min_child_weight=1, missing=nan, monotone_constraints='()',\n",
       "             n_estimators=100, n_jobs=12, num_parallel_tree=1, random_state=0,\n",
       "             reg_alpha=0, reg_lambda=1, scale_pos_weight=1, subsample=1,\n",
       "             tree_method='exact', validate_parameters=1, verbosity=None)"
      ]
     },
     "execution_count": 36,
     "metadata": {},
     "output_type": "execute_result"
    }
   ],
   "source": [
    "#Create a XGBoost Regressor\n",
    "XGBreg = XGBRegressor()\n",
    "\n",
    "# Train the model using the training sets \n",
    "XGBreg.fit(Xtrain, ytrain)\n",
    "\n"
   ]
  },
  {
   "cell_type": "code",
   "execution_count": 46,
   "id": "organized-occasions",
   "metadata": {},
   "outputs": [
    {
     "name": "stdout",
     "output_type": "stream",
     "text": [
      "XGBoost R2  TRAIN = 0.9999999617839477\n",
      "XGBoost R2  TEST = 0.4883108148084998\n",
      "MSE en Dataset de TEST : 211.69\n"
     ]
    }
   ],
   "source": [
    "# Model prediction on train data\n",
    "y_pred_xgb = XGBreg.predict(Xtest)\n",
    "\n",
    "print('XGBoost R2  TRAIN =', XGBreg.score(Xtrain, ytrain))\n",
    "print('XGBoost R2  TEST =', XGBreg.score(Xtest, ytest))\n",
    "print (\"MSE en Dataset de TEST : %.2f\" % mean_squared_error(ytest, y_pred_xgb))"
   ]
  },
  {
   "cell_type": "code",
   "execution_count": 48,
   "id": "provincial-growth",
   "metadata": {},
   "outputs": [
    {
     "data": {
      "image/png": "[encoded data removed]",
      "text/plain": [
       "<Figure size 576x288 with 1 Axes>"
      ]
     },
     "metadata": {},
     "output_type": "display_data"
    },
    {
     "name": "stderr",
     "output_type": "stream",
     "text": [
      "C:\\Users\\roype\\anaconda3\\envs\\PR LAB\\lib\\site-packages\\seaborn\\_decorators.py:36: FutureWarning: Pass the following variables as keyword args: x, y. From version 0.12, the only valid positional argument will be `data`, and passing other arguments without an explicit keyword will result in an error or misinterpretation.\n",
      "  warnings.warn(\n"
     ]
    },
    {
     "data": {
      "image/png": "[encoded data removed]",
      "text/plain": [
       "<Figure size 576x288 with 1 Axes>"
      ]
     },
     "metadata": {},
     "output_type": "display_data"
    }
   ],
   "source": [
    "plt.rcParams['figure.figsize'] = (8, 4)\n",
    "plt.plot(ytest, ytest, '-')\n",
    "plt.scatter(y_pred_xgb, ytest, s=50, c='green', marker='o')\n",
    "plt.xlabel(\"Predicciones de Ozone en TEST\")\n",
    "plt.ylabel(\"Valores reales Ozone\")\n",
    "plt.show()\n",
    "\n",
    "\n",
    "sns.set(style=\"whitegrid\")\n",
    "sns.residplot(ytest, y_pred_xgb, lowess=True, color=\"green\")\n",
    "plt.show()\n"
   ]
  }
 ],
 "metadata": {
  "kernelspec": {
   "display_name": "Python 3",
   "language": "python",
   "name": "python3"
  },
  "language_info": {
   "codemirror_mode": {
    "name": "ipython",
    "version": 3
   },
   "file_extension": ".py",
   "mimetype": "text/x-python",
   "name": "python",
   "nbconvert_exporter": "python",
   "pygments_lexer": "ipython3",
   "version": "3.8.5"
  }
 },
 "nbformat": 4,
 "nbformat_minor": 5
}
